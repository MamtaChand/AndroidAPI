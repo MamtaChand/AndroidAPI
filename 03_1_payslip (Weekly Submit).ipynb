{
  "cells": [
    {
      "cell_type": "markdown",
      "metadata": {
        "id": "view-in-github",
        "colab_type": "text"
      },
      "source": [
        "<a href=\"https://colab.research.google.com/github/MamtaChand/AndroidAPI/blob/master/03_1_payslip%20(Weekly%20Submit).ipynb\" target=\"_parent\"><img src=\"https://colab.research.google.com/assets/colab-badge.svg\" alt=\"Open In Colab\"/></a>"
      ]
    },
    {
      "cell_type": "markdown",
      "metadata": {
        "id": "kF8ldRydTDPx"
      },
      "source": [
        "# Payslip\n",
        "\n",
        "A payslip is a document that shows their total wages earned for a set period.\n",
        "This might be from a salary, hourly wages or commission. Payslips are also know as ‘pay advice’.  Traditionally the payslip was a paper document attached. Today\n",
        "most organisations provide them electronically.\n",
        "\n",
        "## Task 0 - Import into GitHub\n",
        "First, import the notebook into Colab and save an initial copy to GitHub.\n",
        "\n",
        "## Task 1 - Start Simple\n",
        "\n",
        "Writing complete robust programs can take time.  Often the more we understand a problem the easier it is to implement the solution.   One approach is to implement the simplest version of a program and then slowly add functionality.\n",
        "\n",
        "This notebook aims to start simple and slowly build up the program.\n",
        "The approach we take below is one way to understand a problem, step 1 of our development process. Complex projects, often follow a similar idea\n",
        "where they implement a minimal program, and each week or month has intense periods where the team adds functionality.  These advanced methodologies are beyond the scope of an introductory programming course but by starting small and slowly adding functionality we do capture the essence of the process.\n",
        "\n",
        "\n",
        "### The Initial (minimal) Program\n",
        "\n",
        "Consider 'Ram' who has a salary of \\$25,000.  They have sold goods worth $20,000 and earn a 2% commission on the sales. They fall into the 10% tax bracket. We will talk about tax brackets in another notebook. Before making payments the organisation needs to deduct 10% tax.\n",
        "\n",
        "We need to program to print out a payslip for salespeople. Our payslip\n",
        "is very simple, we need a title, the amount of salary, the amount of commission, the amount of tax, and the total pay.\n",
        "\n",
        "Run the following program for one person."
      ]
    },
    {
      "cell_type": "code",
      "execution_count": 1,
      "metadata": {
        "id": "2UenEHfcTuLz",
        "colab": {
          "base_uri": "https://localhost:8080/"
        },
        "outputId": "655667c6-b71a-4c67-952d-f4489a492aa2"
      },
      "outputs": [
        {
          "output_type": "stream",
          "name": "stdout",
          "text": [
            "=== Payslip of Chakra ===\n",
            "Salary:     50000 \n",
            "Commission: 1000.0 \n",
            "Tax:        5100.0\n",
            "Total pay:  45900.0\n"
          ]
        }
      ],
      "source": [
        "# assign values for salary and sales\n",
        "salary = 50000\n",
        "sales = 50000\n",
        "\n",
        "# calculate the commision\n",
        "commission = 0.02 * sales\n",
        "\n",
        "# calculate the tax\n",
        "tax = (salary + commission) * 0.10\n",
        "\n",
        "# calculate the pay\n",
        "pay = salary + commission - tax\n",
        "\n",
        "# print the payslip\n",
        "print('=== Payslip of Chakra ===')\n",
        "print(f\"Salary: {salary:9} \\nCommission: {commission:} \\nTax: {tax:13}\")\n",
        "print(f\"Total pay: {pay:8}\")\n"
      ]
    },
    {
      "cell_type": "markdown",
      "metadata": {
        "id": "QzcJGzRBUDz2"
      },
      "source": [
        "Now, consider 'Radha' who has a salary of \\$60,000.  They have sold goods worth $50,000 and earns 2.5% commision on the sales. They fall into the 10% tax bracket and so before making payments we need to deduct 10% form their total payout."
      ]
    },
    {
      "cell_type": "code",
      "execution_count": 4,
      "metadata": {
        "id": "wFmuD9ujUgDW",
        "colab": {
          "base_uri": "https://localhost:8080/"
        },
        "outputId": "dbe38aa9-71a4-426c-b565-504ee148fb10"
      },
      "outputs": [
        {
          "output_type": "stream",
          "name": "stdout",
          "text": [
            "=== Payslip of Radha ===\n",
            "Salary:     60000 \n",
            "Commission: 1250.0 \n",
            "Tax:        6125.0\n",
            "Total pay:  55125.0\n"
          ]
        }
      ],
      "source": [
        "# assign values for salary and sales\n",
        "salary = 60000\n",
        "sales = 50000\n",
        "\n",
        "# calculate the commision\n",
        "commission = 0.025 * sales\n",
        "\n",
        "# calculate the tax\n",
        "tax = (salary + commission) * 0.10\n",
        "\n",
        "# calculate the pay\n",
        "pay = salary + commission - tax\n",
        "\n",
        "# print the payslip\n",
        "print('=== Payslip of Radha ===')\n",
        "print(f\"Salary: {salary:9} \\nCommission: {commission:} \\nTax: {tax:13}\")\n",
        "print(f\"Total pay: {pay:8}\")\n"
      ]
    },
    {
      "cell_type": "markdown",
      "metadata": {
        "id": "UFGObxq7UlvE"
      },
      "source": [
        "## Task 2 - Generalise\n",
        "\n",
        "What details did we change from Ram to Radha?"
      ]
    },
    {
      "cell_type": "markdown",
      "source": [
        "\n",
        "*   Salary\n",
        "*   Name\n",
        "\n",
        "*   Sales\n",
        "*   Commission\n",
        "\n",
        "\n",
        "\n",
        "\n"
      ],
      "metadata": {
        "id": "GBMi8lJoBKsh"
      }
    },
    {
      "cell_type": "code",
      "source": [
        "# get values for name, salary and sales from user\n",
        "name = input(\"Enter sales persone name: \")\n",
        "\n",
        "# salary = 30000\n",
        "salary = float(input(\"Enter salary: \"))\n",
        "\n",
        "# sales = 40000\n",
        "slaes = float(input(\"Enter sales amount: \"))\n",
        "\n",
        "comm = float(input(\"Enter commission rate: \"))\n",
        "\n",
        "# calculate the commision\n",
        "commission = (comm/100) * sales\n",
        "\n",
        "# calculate the tax\n",
        "tax = (salary + commission) * 0.10\n",
        "\n",
        "# calculate the pay\n",
        "pay = salary + commission - tax\n",
        "\n",
        "# print the payslip\n",
        "print(f'=== Payslip ===')\n",
        "print(f\"Name: {name:10}\")\n",
        "print(f\"Salary: {salary:9} \\nCommission: {commission:} \\nTax: {tax:13}\")\n",
        "print(f\"Total pay: {pay:8}\")"
      ],
      "metadata": {
        "colab": {
          "base_uri": "https://localhost:8080/"
        },
        "id": "VX2zUDx0DnwM",
        "outputId": "8479e310-4fef-4cc8-c71e-5028322b60ae"
      },
      "execution_count": 9,
      "outputs": [
        {
          "output_type": "stream",
          "name": "stdout",
          "text": [
            "Enter sales persone name: Abhinav\n",
            "Enter salary: 20000\n",
            "Enter sales amount: 50000\n",
            "Enter commission rate: 0.06\n",
            "=== Payslip ===\n",
            "Name: Abhinav   \n",
            "Salary:   20000.0 \n",
            "Commission: 29.999999999999996 \n",
            "Tax:        2003.0\n",
            "Total pay:  18027.0\n"
          ]
        }
      ]
    },
    {
      "cell_type": "markdown",
      "metadata": {
        "id": "7PrlmDmYV6iX"
      },
      "source": [
        "Make what we changed as inputs (parameters) to a function"
      ]
    },
    {
      "cell_type": "markdown",
      "source": [
        "Creat function to calculate pay\n",
        "\n"
      ],
      "metadata": {
        "id": "krnmoBwQEGWx"
      }
    },
    {
      "cell_type": "code",
      "source": [
        "def calculate_pay(salary, sales, comm) : # the function takes in three parameters\n",
        "# calculate the commission\n",
        "commission = (comm/100) * sales\n",
        "# calculate the tax\n",
        "tax = (salary + commission) * 0.10\n",
        "# calculate the pay\n",
        "pay = salary + commission - tax\n",
        "return commission, tax, pay # function return calculated values\n"
      ],
      "metadata": {
        "id": "nzqVWksEEZd0",
        "colab": {
          "base_uri": "https://localhost:8080/",
          "height": 140
        },
        "outputId": "881093e1-bf82-4c2c-a0e3-ae8b48b6911d"
      },
      "execution_count": 10,
      "outputs": [
        {
          "output_type": "error",
          "ename": "IndentationError",
          "evalue": "ignored",
          "traceback": [
            "\u001b[0;36m  File \u001b[0;32m\"<ipython-input-10-fc65dabbe30b>\"\u001b[0;36m, line \u001b[0;32m3\u001b[0m\n\u001b[0;31m    commission = (comm/100) * sales\u001b[0m\n\u001b[0m    ^\u001b[0m\n\u001b[0;31mIndentationError\u001b[0m\u001b[0;31m:\u001b[0m expected an indented block after function definition on line 1\n"
          ]
        }
      ]
    },
    {
      "cell_type": "code",
      "source": [
        "# get values for name, salary and sales from user\n",
        "name = input(\"Enter sales person name: \")\n",
        "salary = float(input(\"Enter salary: \"))\n",
        "sales = float(input(\"Enter sales amount: \"))\n",
        "comm = float(input(\"Enter commission rate: \"))\n",
        "\n",
        "commission, tax, pay = calculate_pay(salary, sales, comm)\n",
        "\n",
        "#print the payslip\n",
        "print(f'=== Payslip of (Name) ===')\n",
        "print(f\"Salary: {salary:10} \\nCommission: {commission:} \\nTax: {tax:13}\")\n",
        "print(f\"Total pay: {pay:8}\")"
      ],
      "metadata": {
        "id": "xpT1Pu2pGxDV",
        "colab": {
          "base_uri": "https://localhost:8080/",
          "height": 314
        },
        "outputId": "e7d2961b-5498-4ed2-ab9f-945f772f2494"
      },
      "execution_count": 11,
      "outputs": [
        {
          "name": "stdout",
          "output_type": "stream",
          "text": [
            "Enter sales person name: A\n",
            "Enter salary: 20000\n",
            "Enter sales amount: 50000\n",
            "Enter commission rate: 5\n"
          ]
        },
        {
          "output_type": "error",
          "ename": "NameError",
          "evalue": "ignored",
          "traceback": [
            "\u001b[0;31m---------------------------------------------------------------------------\u001b[0m",
            "\u001b[0;31mNameError\u001b[0m                                 Traceback (most recent call last)",
            "\u001b[0;32m<ipython-input-11-251cfe35d93d>\u001b[0m in \u001b[0;36m<cell line: 7>\u001b[0;34m()\u001b[0m\n\u001b[1;32m      5\u001b[0m \u001b[0mcomm\u001b[0m \u001b[0;34m=\u001b[0m \u001b[0mfloat\u001b[0m\u001b[0;34m(\u001b[0m\u001b[0minput\u001b[0m\u001b[0;34m(\u001b[0m\u001b[0;34m\"Enter commission rate: \"\u001b[0m\u001b[0;34m)\u001b[0m\u001b[0;34m)\u001b[0m\u001b[0;34m\u001b[0m\u001b[0;34m\u001b[0m\u001b[0m\n\u001b[1;32m      6\u001b[0m \u001b[0;34m\u001b[0m\u001b[0m\n\u001b[0;32m----> 7\u001b[0;31m \u001b[0mcommission\u001b[0m\u001b[0;34m,\u001b[0m \u001b[0mtax\u001b[0m\u001b[0;34m,\u001b[0m \u001b[0mpay\u001b[0m \u001b[0;34m=\u001b[0m \u001b[0mcalculate_pay\u001b[0m\u001b[0;34m(\u001b[0m\u001b[0msalary\u001b[0m\u001b[0;34m,\u001b[0m \u001b[0msales\u001b[0m\u001b[0;34m,\u001b[0m \u001b[0mcomm\u001b[0m\u001b[0;34m)\u001b[0m\u001b[0;34m\u001b[0m\u001b[0;34m\u001b[0m\u001b[0m\n\u001b[0m\u001b[1;32m      8\u001b[0m \u001b[0;34m\u001b[0m\u001b[0m\n\u001b[1;32m      9\u001b[0m \u001b[0;31m#print the payslip\u001b[0m\u001b[0;34m\u001b[0m\u001b[0;34m\u001b[0m\u001b[0m\n",
            "\u001b[0;31mNameError\u001b[0m: name 'calculate_pay' is not defined"
          ]
        }
      ]
    },
    {
      "cell_type": "code",
      "source": [
        "Num_males=int(input('Enter number of males:'))\n",
        "Num_females=int(input('Enter number of females'))\n",
        "Percent_males=(Num_males/(Num_males+Num_females))*100\n",
        "Percent_females=(Num_females/(Num_males+Num_females))*100\n",
        "print(\"Percent Males= \",Percent_males,\"%\")\n",
        "print(\"Percent Females \",Percent_females,\"%\")"
      ],
      "metadata": {
        "colab": {
          "base_uri": "https://localhost:8080/"
        },
        "id": "3xEOtzhFLck2",
        "outputId": "8ab6aaf1-44ed-4517-c6b1-2358099d2a39"
      },
      "execution_count": null,
      "outputs": [
        {
          "output_type": "stream",
          "name": "stdout",
          "text": [
            "Enter number of males:40\n",
            "Enter number of females60\n",
            "Percent Males=  40.0 %\n",
            "Percent Females  60.0 %\n"
          ]
        }
      ]
    }
  ],
  "metadata": {
    "colab": {
      "provenance": [],
      "include_colab_link": true
    },
    "kernelspec": {
      "display_name": "Python 3",
      "language": "python",
      "name": "python3"
    },
    "language_info": {
      "codemirror_mode": {
        "name": "ipython",
        "version": 3
      },
      "file_extension": ".py",
      "mimetype": "text/x-python",
      "name": "python",
      "nbconvert_exporter": "python",
      "pygments_lexer": "ipython3",
      "version": "3.8.8"
    }
  },
  "nbformat": 4,
  "nbformat_minor": 0
}