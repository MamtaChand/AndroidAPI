{
  "nbformat": 4,
  "nbformat_minor": 0,
  "metadata": {
    "colab": {
      "provenance": [],
      "authorship_tag": "ABX9TyObWM0WYZqV0C2HIIZjznbC",
      "include_colab_link": true
    },
    "kernelspec": {
      "name": "python3",
      "display_name": "Python 3"
    },
    "language_info": {
      "name": "python"
    }
  },
  "cells": [
    {
      "cell_type": "markdown",
      "metadata": {
        "id": "view-in-github",
        "colab_type": "text"
      },
      "source": [
        "<a href=\"https://colab.research.google.com/github/MamtaChand/AndroidAPI/blob/master/Ice_cream_sundae.ipynb\" target=\"_parent\"><img src=\"https://colab.research.google.com/assets/colab-badge.svg\" alt=\"Open In Colab\"/></a>"
      ]
    },
    {
      "cell_type": "code",
      "execution_count": 1,
      "metadata": {
        "id": "5oOafgU92H6P"
      },
      "outputs": [],
      "source": [
        "import random"
      ]
    },
    {
      "cell_type": "code",
      "source": [
        "# Make a list of customers.\n",
        "customer=['Jimmy','Kim','John','Stacie']"
      ],
      "metadata": {
        "id": "TbqLl7QA2vGN"
      },
      "execution_count": 49,
      "outputs": []
    },
    {
      "cell_type": "code",
      "source": [
        "winner=random.choice(customer)"
      ],
      "metadata": {
        "id": "yb7VFs4a2uvR"
      },
      "execution_count": 50,
      "outputs": []
    },
    {
      "cell_type": "code",
      "source": [
        "flavour='Vanilla'"
      ],
      "metadata": {
        "id": "zbJot_0l2qtJ"
      },
      "execution_count": 51,
      "outputs": []
    },
    {
      "cell_type": "code",
      "source": [
        "print('Congratulation ' + winner+' you have won an icecream sundae')"
      ],
      "metadata": {
        "colab": {
          "base_uri": "https://localhost:8080/"
        },
        "id": "WWZxK7qO4trq",
        "outputId": "d4b27784-0b04-4fe6-aaa6-eb2e4b10a71f"
      },
      "execution_count": 52,
      "outputs": [
        {
          "output_type": "stream",
          "name": "stdout",
          "text": [
            "Congratulation John you have won an icecream sundae\n"
          ]
        }
      ]
    },
    {
      "cell_type": "code",
      "source": [
        "prompt= 'Would you like a cherry on top?'"
      ],
      "metadata": {
        "id": "4VzpGwq65D1R"
      },
      "execution_count": 53,
      "outputs": []
    },
    {
      "cell_type": "code",
      "source": [
        "wants_cherry=input(prompt)"
      ],
      "metadata": {
        "colab": {
          "base_uri": "https://localhost:8080/"
        },
        "id": "V8p0ALY15Sd0",
        "outputId": "4a3dd0a8-066f-4cf2-f81d-7015da7286d1"
      },
      "execution_count": 54,
      "outputs": [
        {
          "name": "stdout",
          "output_type": "stream",
          "text": [
            "Would you like a cherry on top?Yes\n"
          ]
        }
      ]
    },
    {
      "cell_type": "code",
      "source": [
        "order=flavour+ ' Sundae'\n",
        "if wants_cherry:\n",
        "  order= order + ' with a cherry on top'\n",
        "else:\n",
        "  order= order+ 'without cherry on top'"
      ],
      "metadata": {
        "id": "-MMtVQ5Y5j15"
      },
      "execution_count": 55,
      "outputs": []
    },
    {
      "cell_type": "code",
      "source": [
        "print('one '+ order+ ' for '+ winner+ ' comming right up...')"
      ],
      "metadata": {
        "colab": {
          "base_uri": "https://localhost:8080/"
        },
        "id": "nN1ty9a26E4s",
        "outputId": "7917aa5e-bff7-4d85-888c-e728d4f45b4e"
      },
      "execution_count": 56,
      "outputs": [
        {
          "output_type": "stream",
          "name": "stdout",
          "text": [
            "one Vanilla Sundae with a cherry on top for John comming right up...\n"
          ]
        }
      ]
    }
  ]
}