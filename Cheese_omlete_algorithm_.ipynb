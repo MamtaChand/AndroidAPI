{
  "nbformat": 4,
  "nbformat_minor": 0,
  "metadata": {
    "colab": {
      "provenance": [],
      "authorship_tag": "ABX9TyOdYZSY78bg/P1u7G2ONIkk",
      "include_colab_link": true
    },
    "kernelspec": {
      "name": "python3",
      "display_name": "Python 3"
    },
    "language_info": {
      "name": "python"
    }
  },
  "cells": [
    {
      "cell_type": "markdown",
      "metadata": {
        "id": "view-in-github",
        "colab_type": "text"
      },
      "source": [
        "<a href=\"https://colab.research.google.com/github/MamtaChand/AndroidAPI/blob/master/Cheese_omlete_algorithm_.ipynb\" target=\"_parent\"><img src=\"https://colab.research.google.com/assets/colab-badge.svg\" alt=\"Open In Colab\"/></a>"
      ]
    },
    {
      "cell_type": "markdown",
      "source": [
        "**Cheese omlete recipe algorithm.**\n"
      ],
      "metadata": {
        "id": "l7mOdJo80aBE"
      }
    },
    {
      "cell_type": "markdown",
      "source": [
        "1. Crack 3 eggs into bowl\n",
        "2. While eggs are't fully mixed:\n",
        "3. Whip eggs\n",
        "4. Heat saute pan\n",
        "5. Transfer eggs to pan\n",
        "6. While eggs are'nt fully cooked\n",
        "6. Stir eggs\n",
        "7. If customer ordered cheese:\n",
        "8. Add cheese on\n",
        "9. Remove pan from heat\n",
        "10. Serve."
      ],
      "metadata": {
        "id": "r56Vf6Mz0pAZ"
      }
    }
  ]
}